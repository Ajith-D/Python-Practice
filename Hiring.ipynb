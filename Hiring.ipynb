{
 "cells": [
  {
   "cell_type": "code",
   "execution_count": 3,
   "id": "1db84acf",
   "metadata": {},
   "outputs": [
    {
     "name": "stdout",
     "output_type": "stream",
     "text": [
      "Enter the Skill: yes\n",
      "Enter the Skill: yes\n",
      "Enter the Skill: yes\n",
      "Enter the Skill: yes\n"
     ]
    }
   ],
   "source": [
    "Python = input('Enter the Skill: ')\n",
    "Pandas = input('Enter the Skill: ')\n",
    "Numpy = input('Enter the Skill: ')\n",
    "Regression = input('Enter the Skill: ')\n"
   ]
  },
  {
   "cell_type": "code",
   "execution_count": 4,
   "id": "39c8dd57",
   "metadata": {},
   "outputs": [
    {
     "name": "stdout",
     "output_type": "stream",
     "text": [
      "You are elligible for Data Scientist\n"
     ]
    }
   ],
   "source": [
    "if Python == 'yes' and Pandas == 'yes' and Numpy == 'yes' and Regression == 'yes':\n",
    "    print('You are elligible for Data Scientist')\n",
    "elif Python == 'yes' and Pandas == 'yes' and Numpy == 'yes':\n",
    "     print('You are elligible for Data Analyst')\n",
    "elif Python == 'yes' and Pandas == 'yes':\n",
    "    print('You are elligible for Machine Learning')\n",
    "elif Python == 'yes':\n",
    "    print('You are elligible for Python developer')\n",
    "else:\n",
    "    print('Sorry! Better luck next time')\n",
    "    \n"
   ]
  },
  {
   "cell_type": "code",
   "execution_count": null,
   "id": "11779155",
   "metadata": {},
   "outputs": [],
   "source": []
  }
 ],
 "metadata": {
  "kernelspec": {
   "display_name": "Python 3 (ipykernel)",
   "language": "python",
   "name": "python3"
  },
  "language_info": {
   "codemirror_mode": {
    "name": "ipython",
    "version": 3
   },
   "file_extension": ".py",
   "mimetype": "text/x-python",
   "name": "python",
   "nbconvert_exporter": "python",
   "pygments_lexer": "ipython3",
   "version": "3.10.9"
  }
 },
 "nbformat": 4,
 "nbformat_minor": 5
}
