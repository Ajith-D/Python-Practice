{
 "cells": [
  {
   "cell_type": "code",
   "execution_count": 2,
   "id": "b3a03baa",
   "metadata": {},
   "outputs": [
    {
     "name": "stdout",
     "output_type": "stream",
     "text": [
      "Enter the name: Ajith\n",
      "Enter the Gender: male\n",
      "Enter the experience: 4\n"
     ]
    }
   ],
   "source": [
    "name = input('Enter the name: ')\n",
    "gender = input('Enter the Gender: ')\n",
    "experience = int(input('Enter the experience: '))"
   ]
  },
  {
   "cell_type": "code",
   "execution_count": 3,
   "id": "9aa1a09e",
   "metadata": {},
   "outputs": [
    {
     "name": "stdout",
     "output_type": "stream",
     "text": [
      "     Welcome madam\n",
      "Thankyou for joining as a\n",
      "     Trainee\n"
     ]
    }
   ],
   "source": [
    "if gender == 'Male':\n",
    "    print('     Welcome sir')\n",
    "else:\n",
    "    print('     Welcome madam')\n",
    "    \n",
    "if experience < 5:\n",
    "    print('Thankyou for joining as a\\n     Trainee')\n",
    "elif experience < 10:\n",
    "    print('Thankyou for joining as a\\n     Team Leader')\n",
    "else:\n",
    "    print('Thankyou for joining as a\\n     Manager')\n"
   ]
  },
  {
   "cell_type": "code",
   "execution_count": null,
   "id": "2565e2af",
   "metadata": {},
   "outputs": [],
   "source": []
  }
 ],
 "metadata": {
  "kernelspec": {
   "display_name": "Python 3 (ipykernel)",
   "language": "python",
   "name": "python3"
  },
  "language_info": {
   "codemirror_mode": {
    "name": "ipython",
    "version": 3
   },
   "file_extension": ".py",
   "mimetype": "text/x-python",
   "name": "python",
   "nbconvert_exporter": "python",
   "pygments_lexer": "ipython3",
   "version": "3.10.9"
  }
 },
 "nbformat": 4,
 "nbformat_minor": 5
}
