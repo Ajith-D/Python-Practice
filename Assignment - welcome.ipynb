{
 "cells": [
  {
   "cell_type": "code",
   "execution_count": 24,
   "id": "b3a03baa",
   "metadata": {},
   "outputs": [
    {
     "name": "stdout",
     "output_type": "stream",
     "text": [
      "Enter the name: Ajith\n",
      "Enter the Gender: Male\n",
      "Enter the experience: 15\n"
     ]
    }
   ],
   "source": [
    "name = input('Enter the name: ')\n",
    "gender = input('Enter the Gender: ')\n",
    "experience = int(input('Enter the experience: '))"
   ]
  },
  {
   "cell_type": "code",
   "execution_count": 30,
   "id": "9aa1a09e",
   "metadata": {},
   "outputs": [
    {
     "name": "stdout",
     "output_type": "stream",
     "text": [
      "      Welcome sir\n",
      "Thankyou for joining as a\n",
      "       Manager\n"
     ]
    }
   ],
   "source": [
    "if gender == 'Male':\n",
    "    print('      Welcome sir')\n",
    "else:\n",
    "    print('      Welcome madam')\n",
    "    \n",
    "if experience < 5:\n",
    "    print('Thankyou for joining as a\\n       Trainee')\n",
    "elif experience < 10:\n",
    "    print('Thankyou for joining as a\\n      Team Leader')\n",
    "else:\n",
    "    print('Thankyou for joining as a\\n       Manager')\n"
   ]
  },
  {
   "cell_type": "code",
   "execution_count": 31,
   "id": "2565e2af",
   "metadata": {},
   "outputs": [
    {
     "name": "stdout",
     "output_type": "stream",
     "text": [
      "      Welcome sir\n",
      "Thankyou for joining as a\n",
      "       Manager\n"
     ]
    }
   ],
   "source": [
    "if gender == 'Male' and experience < 5:\n",
    "    print('      Welcome sir\\nThankyou for joining as a\\n      Trainee')\n",
    "elif gender == 'Male' and experience < 10:\n",
    "    print('      Welcome sir\\nThankyou for joining as a\\n      Team Leader')\n",
    "elif gender == 'Male' and experience > 10:\n",
    "    print('      Welcome sir\\nThankyou for joining as a\\n       Manager')\n",
    "    \n",
    "    \n",
    "elif gender == 'Female' and experience < 5:\n",
    "    print('      Welcome Madam\\nThankyou for joining as a\\n      Trainee')\n",
    "elif gender == 'Female' and experience < 10:\n",
    "    print('      Welcome Madam\\nThankyou for joining as a\\n      Team Leader')\n",
    "elif gender == 'Female' and experience > 10:\n",
    "    print('      Welcome Madam\\nThankyou for joining as a\\n        Manager')\n",
    "    \n",
    "else:\n",
    "    print('Better luck Next time')"
   ]
  },
  {
   "cell_type": "code",
   "execution_count": null,
   "id": "24ad2b43",
   "metadata": {},
   "outputs": [],
   "source": []
  }
 ],
 "metadata": {
  "kernelspec": {
   "display_name": "Python 3 (ipykernel)",
   "language": "python",
   "name": "python3"
  },
  "language_info": {
   "codemirror_mode": {
    "name": "ipython",
    "version": 3
   },
   "file_extension": ".py",
   "mimetype": "text/x-python",
   "name": "python",
   "nbconvert_exporter": "python",
   "pygments_lexer": "ipython3",
   "version": "3.10.9"
  }
 },
 "nbformat": 4,
 "nbformat_minor": 5
}
