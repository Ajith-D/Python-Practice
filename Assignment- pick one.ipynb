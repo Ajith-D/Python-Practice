{
 "cells": [
  {
   "cell_type": "code",
   "execution_count": null,
   "id": "6b25dde5",
   "metadata": {},
   "outputs": [],
   "source": []
  },
  {
   "cell_type": "code",
   "execution_count": 94,
   "id": "2d0a0480",
   "metadata": {},
   "outputs": [
    {
     "name": "stdout",
     "output_type": "stream",
     "text": [
      "Picked item: mango\n"
     ]
    }
   ],
   "source": [
    "person = input('Picked item: ')"
   ]
  },
  {
   "cell_type": "code",
   "execution_count": 97,
   "id": "6de54a48",
   "metadata": {},
   "outputs": [
    {
     "name": "stdout",
     "output_type": "stream",
     "text": [
      "you have picked both\n"
     ]
    }
   ],
   "source": [
    "if person == 'apple':\n",
    "    print('You have picked friuts')\n",
    "elif person == 'carrot':\n",
    "    print('You have Picked vegetables')\n",
    "else:\n",
    "    print('you have picked both')"
   ]
  },
  {
   "cell_type": "code",
   "execution_count": null,
   "id": "792b2684",
   "metadata": {},
   "outputs": [],
   "source": []
  }
 ],
 "metadata": {
  "kernelspec": {
   "display_name": "Python 3 (ipykernel)",
   "language": "python",
   "name": "python3"
  },
  "language_info": {
   "codemirror_mode": {
    "name": "ipython",
    "version": 3
   },
   "file_extension": ".py",
   "mimetype": "text/x-python",
   "name": "python",
   "nbconvert_exporter": "python",
   "pygments_lexer": "ipython3",
   "version": "3.10.9"
  }
 },
 "nbformat": 4,
 "nbformat_minor": 5
}
