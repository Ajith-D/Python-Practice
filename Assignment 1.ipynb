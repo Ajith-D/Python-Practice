{
 "cells": [
  {
   "cell_type": "code",
   "execution_count": 1,
   "id": "8bbaa70a",
   "metadata": {},
   "outputs": [],
   "source": [
    "import math"
   ]
  },
  {
   "cell_type": "markdown",
   "id": "5fb71e86",
   "metadata": {},
   "source": [
    "## Square"
   ]
  },
  {
   "cell_type": "code",
   "execution_count": 6,
   "id": "8b7fc5f1",
   "metadata": {},
   "outputs": [
    {
     "name": "stdout",
     "output_type": "stream",
     "text": [
      "Enter the side of the square: 20\n"
     ]
    }
   ],
   "source": [
    "s = float(input('Enter the side of the square: '))"
   ]
  },
  {
   "cell_type": "code",
   "execution_count": 7,
   "id": "9210f84a",
   "metadata": {},
   "outputs": [
    {
     "name": "stdout",
     "output_type": "stream",
     "text": [
      "400.0\n"
     ]
    }
   ],
   "source": [
    "square = s*s\n",
    "print(square)"
   ]
  },
  {
   "cell_type": "markdown",
   "id": "7e698223",
   "metadata": {},
   "source": [
    "## Slanding Rectangle"
   ]
  },
  {
   "cell_type": "code",
   "execution_count": 13,
   "id": "c8651b92",
   "metadata": {},
   "outputs": [
    {
     "name": "stdout",
     "output_type": "stream",
     "text": [
      "Enter the length: 34.9\n",
      "Enter the breadth: 45.6\n",
      "The Area of the Rectangle is 1591.44\n"
     ]
    }
   ],
   "source": [
    "length = float(input('Enter the length: '))\n",
    "breadth = float(input('Enter the breadth: '))\n",
    "ar = (length) * (breadth) \n",
    "print(f'The Area of the Rectangle is {ar}')"
   ]
  },
  {
   "cell_type": "markdown",
   "id": "903b23cb",
   "metadata": {},
   "source": [
    "## Triangle\n"
   ]
  },
  {
   "cell_type": "code",
   "execution_count": 14,
   "id": "1dc85d69",
   "metadata": {},
   "outputs": [
    {
     "name": "stdout",
     "output_type": "stream",
     "text": [
      "Enter the base: 75.9\n",
      "Enter the height: 89.5\n",
      "The Area of the triangle is 3396.525\n"
     ]
    }
   ],
   "source": [
    "base = float(input('Enter the base: '))\n",
    "height = float(input('Enter the height: '))\n",
    "at = (1/2)*base*height\n",
    "print(f'The Area of the triangle is {at}')"
   ]
  },
  {
   "cell_type": "markdown",
   "id": "5e66269f",
   "metadata": {},
   "source": [
    "## Hexagon"
   ]
  },
  {
   "cell_type": "code",
   "execution_count": 17,
   "id": "30b8e0e6",
   "metadata": {},
   "outputs": [
    {
     "name": "stdout",
     "output_type": "stream",
     "text": [
      "Enter the side: 23\n",
      "The Area of the Hexagon is 119.51150572225254\n"
     ]
    }
   ],
   "source": [
    "side = float(input('Enter the side: ')) \n",
    "ah = ((3*(3**(1/2))))*side\n",
    "print(f'The Area of the Hexagon is {ah}')"
   ]
  }
 ],
 "metadata": {
  "kernelspec": {
   "display_name": "Python 3 (ipykernel)",
   "language": "python",
   "name": "python3"
  },
  "language_info": {
   "codemirror_mode": {
    "name": "ipython",
    "version": 3
   },
   "file_extension": ".py",
   "mimetype": "text/x-python",
   "name": "python",
   "nbconvert_exporter": "python",
   "pygments_lexer": "ipython3",
   "version": "3.9.13"
  }
 },
 "nbformat": 4,
 "nbformat_minor": 5
}
